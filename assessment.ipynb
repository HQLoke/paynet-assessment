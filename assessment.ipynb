{
 "cells": [
  {
   "cell_type": "markdown",
   "metadata": {},
   "source": [
    "Credit Card Analysis Assessment\n",
    "\n",
    "Step 1:\n",
    "- Create a pyspark session\n",
    "- Read from credit card transactions json file"
   ]
  },
  {
   "cell_type": "code",
   "execution_count": 13,
   "metadata": {},
   "outputs": [
    {
     "name": "stderr",
     "output_type": "stream",
     "text": [
      "25/03/18 16:51:34 WARN SparkSession: Using an existing Spark session; only runtime SQL configurations will take effect.\n"
     ]
    }
   ],
   "source": [
    "from pyspark.sql import SparkSession\n",
    "\n",
    "spark = SparkSession.builder.appName(\"JSON Reader\").getOrCreate()"
   ]
  },
  {
   "cell_type": "code",
   "execution_count": 14,
   "metadata": {},
   "outputs": [],
   "source": [
    "from pyspark.sql.types import StructType, StructField, StringType, DoubleType, IntegerType, TimestampType\n",
    "\n",
    "# 2. Define Schema with Comments\n",
    "schema = StructType([\n",
    "    StructField(\"Unnamed: 0\", IntegerType(), True),  # Index\n",
    "    StructField(\"trans_date_trans_time\", TimestampType(), True),  # Transaction Time\n",
    "    StructField(\"cc_num\", StringType(), True),  # Credit Card Number\n",
    "    StructField(\"merchant\", StringType(), True),  # Merchant Name\n",
    "    StructField(\"category\", StringType(), True),  # Merchant Category\n",
    "    StructField(\"amt\", DoubleType(), True),  # Transaction Amount\n",
    "    StructField(\"first\", StringType(), True),  # Card Owner's First Name\n",
    "    StructField(\"last\", StringType(), True),  # Card Owner's Last Name\n",
    "    StructField(\"gender\", StringType(), True),  # Card Owner's Gender\n",
    "    StructField(\"street\", StringType(), True),  # Card Owner's Street Address\n",
    "    StructField(\"city\", StringType(), True),  # Card Owner's City\n",
    "    StructField(\"state\", StringType(), True),  # Card Owner's State\n",
    "    StructField(\"zip\", StringType(), True),  # Card Owner's Zip Code\n",
    "    StructField(\"lat\", DoubleType(), True),  # Card Owner's Latitude\n",
    "    StructField(\"long\", DoubleType(), True),  # Card Owner's Longitude\n",
    "    StructField(\"city_pop\", IntegerType(), True),  # City Population\n",
    "    StructField(\"job\", StringType(), True),  # Card Owner's Job\n",
    "    StructField(\"dob\", StringType(), True),  # Card Owner's Date of Birth\n",
    "    StructField(\"trans_num\", StringType(), True),  # Transaction Number\n",
    "    StructField(\"merch_lat\", DoubleType(), True),  # Merchant Latitude\n",
    "    StructField(\"merch_long\", DoubleType(), True),  # Merchant Longitude\n",
    "    StructField(\"is_fraud\", IntegerType(), True),  # Fraud Case Indicator\n",
    "    StructField(\"merch_zipcode\", StringType(), True),  # Merchant Zip Code\n",
    "    StructField(\"merch_last_update_time\", TimestampType(), True),  # Merchant Last Update Time\n",
    "    StructField(\"merch_eff_time\", TimestampType(), True),  # Merchant Effective Registration Time\n",
    "    StructField(\"cc_bic\", StringType(), True)  # Credit Card BIC Code\n",
    "])"
   ]
  },
  {
   "cell_type": "code",
   "execution_count": 15,
   "metadata": {},
   "outputs": [],
   "source": [
    "from pyspark.sql.functions import from_utc_timestamp, col, date_format\n",
    "\n",
    "# Convert timestamps to human-readable format in UTC+8\n",
    "df = df.withColumn(\"trans_date_trans_time\", date_format(from_utc_timestamp(col(\"trans_date_trans_time\"), \"Asia/Singapore\"), \"yyyy-MM-dd HH:mm\"))\n",
    "df = df.withColumn(\"merch_last_update_time\", date_format(from_utc_timestamp(col(\"merch_last_update_time\"), \"Asia/Singapore\"), \"yyyy-MM-dd HH:mm\"))\n",
    "df = df.withColumn(\"merch_eff_time\", date_format(from_utc_timestamp(col(\"merch_eff_time\"), \"Asia/Singapore\"), \"yyyy-MM-dd HH:mm\"))"
   ]
  }
 ],
 "metadata": {
  "kernelspec": {
   "display_name": ".venv",
   "language": "python",
   "name": "python3"
  },
  "language_info": {
   "codemirror_mode": {
    "name": "ipython",
    "version": 3
   },
   "file_extension": ".py",
   "mimetype": "text/x-python",
   "name": "python",
   "nbconvert_exporter": "python",
   "pygments_lexer": "ipython3",
   "version": "3.12.3"
  }
 },
 "nbformat": 4,
 "nbformat_minor": 2
}
