{
 "cells": [
  {
   "cell_type": "markdown",
   "metadata": {},
   "source": [
    "Credit Card Analysis Assessment\n",
    "\n",
    "Step 1:\n",
    "- Create a pyspark session\n",
    "- Read from credit card transactions json file"
   ]
  },
  {
   "cell_type": "code",
   "execution_count": 16,
   "metadata": {},
   "outputs": [
    {
     "name": "stderr",
     "output_type": "stream",
     "text": [
      "[Stage 6:>                                                        (0 + 12) / 12]\r"
     ]
    },
    {
     "name": "stdout",
     "output_type": "stream",
     "text": [
      "+----------+------+-------------+-----------+----------------+--------+----------------+----------------------+------------------+-----------+-------------+--------------------+--------------------+---------------------+--------------------+\n",
      "|Unnamed: 0|   amt|     category|     cc_bic|          cc_num|is_fraud|  merch_eff_time|merch_last_update_time|         merch_lat| merch_long|merch_zipcode|            merchant|     personal_detail|trans_date_trans_time|           trans_num|\n",
      "+----------+------+-------------+-----------+----------------+--------+----------------+----------------------+------------------+-----------+-------------+--------------------+--------------------+---------------------+--------------------+\n",
      "|         0|  4.97|     misc_net|CITIUS33CHI|2703186189652095|       0|1325376018798532|         1325376018666|         36.011293| -82.048315|        28705|fraud_Rippin, Kub...|{\"person_name\":\"J...|  2019-01-01 00:00:18|0b242abb623afc578...|\n",
      "|         1|107.23|  grocery_pos|   ADMDUS41|    630423337322|       0|1325376044867960|          132537604479|49.159046999999994|-118.186462|         NULL|fraud_Heller, Gut...|{\"person_name\":\"S...|  2019-01-01 00:00:44|1f76529f857473494...|\n",
      "|         2|220.11|entertainment|       Null|  38859492057661|       0|1325376051506840|         1325376051286|         43.150704|-112.154481|        83236|fraud_Lind-Buckridge|{\"person_name\":\"E...|  2019-01-01 00:00:51|a1a22d70485983eac...|\n",
      "|         3|  45.0|gas_transport|DEUTUS33TRF|3534093764340240|       0|1325376076794698|         1325376076365|         47.034331|-112.561071|         NULL|fraud_Kutch, Herm...|{\"person_name\":\"J...|  2019-01-01 00:01:16|6b849c168bdad6f86...|\n",
      "|         4| 41.96|     misc_pos|   APBCUS61| 375534208663984|       0|1325376186746376|          132537618681|         38.674999| -78.632459|        22844| fraud_Keeling-Crist|{\"person_name\":\"T...|  2019-01-01 00:03:06|a41d7549acf907893...|\n",
      "+----------+------+-------------+-----------+----------------+--------+----------------+----------------------+------------------+-----------+-------------+--------------------+--------------------+---------------------+--------------------+\n",
      "only showing top 5 rows\n",
      "\n"
     ]
    },
    {
     "name": "stderr",
     "output_type": "stream",
     "text": [
      "                                                                                \r"
     ]
    }
   ],
   "source": [
    "from pyspark.sql import SparkSession\n",
    "\n",
    "spark = SparkSession.builder.appName(\"JSON Reader\").getOrCreate()\n",
    "\n",
    "df = spark.read.json(\"data/cc_sample_transaction.json\")\n",
    "\n",
    "df.show(5)"
   ]
  },
  {
   "cell_type": "code",
   "execution_count": 17,
   "metadata": {},
   "outputs": [],
   "source": [
    "from pyspark.sql.types import StructType, StructField, StringType, DoubleType, IntegerType, TimestampType\n",
    "\n",
    "# 2. Define Schema with Comments\n",
    "schema = StructType([\n",
    "    StructField(\"Unnamed: 0\", IntegerType(), True),  # Index\n",
    "    StructField(\"trans_date_trans_time\", TimestampType(), True),  # Transaction Time\n",
    "    StructField(\"cc_num\", StringType(), True),  # Credit Card Number\n",
    "    StructField(\"merchant\", StringType(), True),  # Merchant Name\n",
    "    StructField(\"category\", StringType(), True),  # Merchant Category\n",
    "    StructField(\"amt\", DoubleType(), True),  # Transaction Amount\n",
    "    StructField(\"first\", StringType(), True),  # Card Owner's First Name\n",
    "    StructField(\"last\", StringType(), True),  # Card Owner's Last Name\n",
    "    StructField(\"gender\", StringType(), True),  # Card Owner's Gender\n",
    "    StructField(\"street\", StringType(), True),  # Card Owner's Street Address\n",
    "    StructField(\"city\", StringType(), True),  # Card Owner's City\n",
    "    StructField(\"state\", StringType(), True),  # Card Owner's State\n",
    "    StructField(\"zip\", StringType(), True),  # Card Owner's Zip Code\n",
    "    StructField(\"lat\", DoubleType(), True),  # Card Owner's Latitude\n",
    "    StructField(\"long\", DoubleType(), True),  # Card Owner's Longitude\n",
    "    StructField(\"city_pop\", IntegerType(), True),  # City Population\n",
    "    StructField(\"job\", StringType(), True),  # Card Owner's Job\n",
    "    StructField(\"dob\", StringType(), True),  # Card Owner's Date of Birth\n",
    "    StructField(\"trans_num\", StringType(), True),  # Transaction Number\n",
    "    StructField(\"merch_lat\", DoubleType(), True),  # Merchant Latitude\n",
    "    StructField(\"merch_long\", DoubleType(), True),  # Merchant Longitude\n",
    "    StructField(\"is_fraud\", IntegerType(), True),  # Fraud Case Indicator\n",
    "    StructField(\"merch_zipcode\", StringType(), True),  # Merchant Zip Code\n",
    "    StructField(\"merch_last_update_time\", TimestampType(), True),  # Merchant Last Update Time\n",
    "    StructField(\"merch_eff_time\", TimestampType(), True),  # Merchant Effective Registration Time\n",
    "    StructField(\"cc_bic\", StringType(), True)  # Credit Card BIC Code\n",
    "])"
   ]
  },
  {
   "cell_type": "code",
   "execution_count": 18,
   "metadata": {},
   "outputs": [],
   "source": [
    "from pyspark.sql.functions import from_utc_timestamp, col, date_format\n",
    "\n",
    "# Convert timestamps to human-readable format in UTC+8\n",
    "df = df.withColumn(\"trans_date_trans_time\", date_format(from_utc_timestamp(col(\"trans_date_trans_time\"), \"Asia/Singapore\"), \"yyyy-MM-dd HH:mm\"))\n",
    "df = df.withColumn(\"merch_last_update_time\", date_format(from_utc_timestamp(col(\"merch_last_update_time\"), \"Asia/Singapore\"), \"yyyy-MM-dd HH:mm\"))\n",
    "df = df.withColumn(\"merch_eff_time\", date_format(from_utc_timestamp(col(\"merch_eff_time\"), \"Asia/Singapore\"), \"yyyy-MM-dd HH:mm\"))"
   ]
  }
 ],
 "metadata": {
  "kernelspec": {
   "display_name": ".venv",
   "language": "python",
   "name": "python3"
  },
  "language_info": {
   "codemirror_mode": {
    "name": "ipython",
    "version": 3
   },
   "file_extension": ".py",
   "mimetype": "text/x-python",
   "name": "python",
   "nbconvert_exporter": "python",
   "pygments_lexer": "ipython3",
   "version": "3.12.3"
  }
 },
 "nbformat": 4,
 "nbformat_minor": 2
}
