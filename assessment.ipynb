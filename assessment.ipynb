{
 "cells": [
  {
   "cell_type": "markdown",
   "metadata": {},
   "source": [
    "# Credit Card Analysis Assessment\n",
    "\n",
    "##### Create a pyspark session\n",
    "##### Read from json file"
   ]
  },
  {
   "cell_type": "code",
   "execution_count": 447,
   "metadata": {},
   "outputs": [
    {
     "name": "stderr",
     "output_type": "stream",
     "text": [
      "                                                                                \r"
     ]
    }
   ],
   "source": [
    "from pyspark.sql import SparkSession\n",
    "\n",
    "spark = SparkSession.builder.appName(\"JSON Reader\").getOrCreate()\n",
    "\n",
    "df = spark.read.json(\"data/cc_sample_transaction.json\")"
   ]
  },
  {
   "cell_type": "markdown",
   "metadata": {},
   "source": [
    "##### Step 3a Parsing personal details"
   ]
  },
  {
   "cell_type": "code",
   "execution_count": 448,
   "metadata": {},
   "outputs": [],
   "source": [
    "from pyspark.sql.functions import col, from_json, split\n",
    "from pyspark.sql.types import StructType, StructField, StringType, DoubleType, IntegerType, TimestampType\n",
    "\n",
    "personal_detail_schema = StructType([\n",
    "    StructField(\"person_name\", StringType(), True),\n",
    "    StructField(\"gender\", StringType(), True),\n",
    "    StructField(\"address\", StringType(), True),\n",
    "    StructField(\"lat\", StringType(), True),\n",
    "    StructField(\"long\", StringType(), True),\n",
    "    StructField(\"city_pop\", StringType(), True),\n",
    "    StructField(\"job\", StringType(), True),\n",
    "    StructField(\"dob\", StringType(), True)\n",
    "])"
   ]
  },
  {
   "cell_type": "markdown",
   "metadata": {},
   "source": [
    "# Name derivation\n",
    "###### Parse personal_detail as Struct\n",
    "###### Split person_name into first and last\n",
    "###### ! Need to split this to explain further\n",
    "###### Initially thought that each person's name is split by an empty space, further analysis shows it could be any delimiter\n",
    "###### Split based on regex\n",
    "###### For example, some of the names were added with NOOOO in the dirty data, using this alphabetical regex split and only getting the first and second items seem to solve this\n",
    "###### The rest is pretty straight-forward"
   ]
  },
  {
   "cell_type": "code",
   "execution_count": 449,
   "metadata": {},
   "outputs": [],
   "source": [
    "df = df.withColumn(\"personal_detail\", from_json(\"personal_detail\", personal_detail_schema))\n",
    "\n",
    "df = df.withColumn(\"first\", split(col(\"personal_detail.person_name\"), \"[^A-Za-z]+\").getItem(0))\n",
    "df = df.withColumn(\"last\", split(col(\"personal_detail.person_name\"), \"[^A-Za-z]+\").getItem(1))\n",
    "\n",
    "df = df.withColumn(\"gender\", col(\"personal_detail.gender\"))\n",
    "df = df.withColumn(\"city_pop\", col(\"personal_detail.city_pop\"))\n",
    "df = df.withColumn(\"job\", col(\"personal_detail.job\"))\n",
    "df = df.withColumn(\"dob\", col(\"personal_detail.dob\"))\n",
    "df = df.withColumn(\"lat\", col(\"personal_detail.lat\"))\n",
    "df = df.withColumn(\"long\", col(\"personal_detail.long\"))"
   ]
  },
  {
   "cell_type": "markdown",
   "metadata": {},
   "source": [
    "Step 3b Parse address into street, city, state, zip"
   ]
  },
  {
   "cell_type": "code",
   "execution_count": 450,
   "metadata": {},
   "outputs": [],
   "source": [
    "address_schema = StructType([\n",
    "    StructField(\"street\", StringType(), True),\n",
    "    StructField(\"city\", StringType(), True),\n",
    "    StructField(\"state\", StringType(), True),\n",
    "    StructField(\"zip\", StringType(), True)\n",
    "])"
   ]
  },
  {
   "cell_type": "markdown",
   "metadata": {},
   "source": [
    "Extract the rest of the details from address struct."
   ]
  },
  {
   "cell_type": "code",
   "execution_count": 451,
   "metadata": {},
   "outputs": [],
   "source": [
    "df = df.withColumn(\"address\", from_json(col(\"personal_detail.address\"), address_schema))\n",
    "\n",
    "df = df.withColumn(\"street\", col(\"address.street\"))\n",
    "df = df.withColumn(\"city\", col(\"address.city\"))\n",
    "df = df.withColumn(\"state\", col(\"address.state\"))\n",
    "df = df.withColumn(\"zip\", col(\"address.zip\"))"
   ]
  },
  {
   "cell_type": "markdown",
   "metadata": {},
   "source": [
    "Step 3c Convert timestamps to human-readable format in UTC+8\n",
    "\n",
    "Because I'm given two types of epoch time, 13 and 16 digits length, which are milli and microseconds respectively.\n",
    "So use an if statement to check how long before dividing.\n",
    "\n",
    "Previously I thought that the epoch time given is utc time, so I used the from_utc_timestamp to convert, but it's actually local time utc+8, so I can skip doing another conversion."
   ]
  },
  {
   "cell_type": "code",
   "execution_count": 452,
   "metadata": {},
   "outputs": [],
   "source": [
    "from pyspark.sql.functions import from_utc_timestamp, from_unixtime, col, date_format, expr\n",
    "\n",
    "df = df.withColumn(\"trans_date_trans_time\", date_format(from_utc_timestamp(col(\"trans_date_trans_time\"), \"Asia/Singapore\"), \"yyyy-MM-dd HH:mm\"))\n",
    "\n",
    "df = df.withColumn(\n",
    "    \"merch_last_update_time\",\n",
    "    date_format(\n",
    "        from_unixtime(expr(\"merch_last_update_time / (IF(LENGTH(merch_last_update_time) = 16, 1000000, 1000))\")),\n",
    "        \"yyyy-MM-dd HH:mm\"\n",
    "    )\n",
    ")\n",
    "\n",
    "df = df.withColumn(\n",
    "    \"merch_eff_time\",\n",
    "    date_format(\n",
    "        from_unixtime(expr(\"merch_eff_time / (IF(LENGTH(merch_eff_time) = 16, 1000000, 1000))\")),\n",
    "        \"yyyy-MM-dd HH:mm\"\n",
    "    )\n",
    ")"
   ]
  },
  {
   "cell_type": "markdown",
   "metadata": {},
   "source": [
    "##### Step 3d Drop unnecessary columns\n",
    "Since there are only used as a placeholder for struct data"
   ]
  },
  {
   "cell_type": "code",
   "execution_count": 453,
   "metadata": {},
   "outputs": [],
   "source": [
    "df = df.drop(\"personal_detail\", \"address\")"
   ]
  },
  {
   "cell_type": "markdown",
   "metadata": {},
   "source": [
    "Step 4: Check for data inconsistencies\n",
    "\n",
    "##### Check missing or null values\n",
    "##### Check inconsistent format\n",
    "##### Check categorical value\n",
    "##### Check duplicate row\n"
   ]
  },
  {
   "cell_type": "code",
   "execution_count": 454,
   "metadata": {},
   "outputs": [
    {
     "name": "stderr",
     "output_type": "stream",
     "text": [
      "                                                                                \r"
     ]
    },
    {
     "name": "stdout",
     "output_type": "stream",
     "text": [
      "+----------+---+--------+------+------+--------+--------------+----------------------+---------+----------+-------------+--------+---------------------+---------+-----+----+------+--------+---+---+---+----+------+----+-----+---+\n",
      "|Unnamed: 0|amt|category|cc_bic|cc_num|is_fraud|merch_eff_time|merch_last_update_time|merch_lat|merch_long|merch_zipcode|merchant|trans_date_trans_time|trans_num|first|last|gender|city_pop|job|dob|lat|long|street|city|state|zip|\n",
      "+----------+---+--------+------+------+--------+--------------+----------------------+---------+----------+-------------+--------+---------------------+---------+-----+----+------+--------+---+---+---+----+------+----+-----+---+\n",
      "+----------+---+--------+------+------+--------+--------------+----------------------+---------+----------+-------------+--------+---------------------+---------+-----+----+------+--------+---+---+---+----+------+----+-----+---+\n",
      "\n"
     ]
    },
    {
     "name": "stderr",
     "output_type": "stream",
     "text": [
      "[Stage 270:=========>                                             (2 + 10) / 12]\r"
     ]
    },
    {
     "name": "stdout",
     "output_type": "stream",
     "text": [
      "There is 0 rows with empty values.\n"
     ]
    },
    {
     "name": "stderr",
     "output_type": "stream",
     "text": [
      "                                                                                \r"
     ]
    }
   ],
   "source": [
    "from pyspark.sql.functions import col, upper\n",
    "\n",
    "# Get all column names\n",
    "columns_to_check = [\"first\", \"last\", \"cc_num\", \"amt\", \"trans_date_trans_time\", \"merch_last_update_time\", \"merch_eff_time\"]\n",
    "\n",
    "# Build the filter condition dynamically for null, empty, \"N/A\", \"NA\" and \"None\"\n",
    "condition = None\n",
    "for c in columns_to_check:\n",
    "    col_condition = (\n",
    "        col(c).isNull() |  # Check for null values\n",
    "        (col(c) == \"\") |  # Check for empty strings\n",
    "        (upper(col(c)) == \"N/A\") |  # Check for \"N/A\" (case-insensitive)\n",
    "        (upper(col(c)) == \"NA\") |  # Check for \"NA\" (case-insensitive)\n",
    "        (upper(col(c)) == \"NONE\")  # Check for \"None\" (case-insensitive)\n",
    "    )\n",
    "    condition = col_condition if condition is None else condition | col_condition\n",
    "\n",
    "# Apply the filter to find dirty rows\n",
    "dirty_rows = df.filter(condition)\n",
    "\n",
    "# Show the dirty rows (or you can save it, analyze, etc.)\n",
    "dirty_rows.show(truncate=False)\n",
    "print(f\"There is {dirty_rows.count()} rows with empty values.\")\n"
   ]
  },
  {
   "cell_type": "code",
   "execution_count": 455,
   "metadata": {},
   "outputs": [
    {
     "name": "stderr",
     "output_type": "stream",
     "text": [
      "                                                                                \r"
     ]
    },
    {
     "name": "stdout",
     "output_type": "stream",
     "text": [
      "+----------+---+--------+------+------+--------+--------------+----------------------+---------+----------+-------------+--------+---------------------+---------+-----+----+------+--------+---+---+---+----+------+----+-----+---+\n",
      "|Unnamed: 0|amt|category|cc_bic|cc_num|is_fraud|merch_eff_time|merch_last_update_time|merch_lat|merch_long|merch_zipcode|merchant|trans_date_trans_time|trans_num|first|last|gender|city_pop|job|dob|lat|long|street|city|state|zip|\n",
      "+----------+---+--------+------+------+--------+--------------+----------------------+---------+----------+-------------+--------+---------------------+---------+-----+----+------+--------+---+---+---+----+------+----+-----+---+\n",
      "+----------+---+--------+------+------+--------+--------------+----------------------+---------+----------+-------------+--------+---------------------+---------+-----+----+------+--------+---+---+---+----+------+----+-----+---+\n",
      "\n"
     ]
    },
    {
     "name": "stderr",
     "output_type": "stream",
     "text": [
      "[Stage 276:==========================================>             (9 + 3) / 12]\r"
     ]
    },
    {
     "name": "stdout",
     "output_type": "stream",
     "text": [
      "There is 0 invalid time rows.\n"
     ]
    },
    {
     "name": "stderr",
     "output_type": "stream",
     "text": [
      "                                                                                \r"
     ]
    }
   ],
   "source": [
    "time_columns = [\"trans_date_trans_time\", \"merch_last_update_time\", \"merch_eff_time\"]\n",
    "\n",
    "condition = None\n",
    "\n",
    "# Regex pattern for yyyy-MM-dd HH:mm\n",
    "time_format_regex = r'^\\d{4}-\\d{2}-\\d{2} \\d{2}:\\d{2}$'\n",
    "\n",
    "# Loop through each time column\n",
    "for c in time_columns:\n",
    "    col_condition = ~col(c).rlike(time_format_regex)  # Check for invalid format\n",
    "    condition = col_condition if condition is None else condition | col_condition\n",
    "    \n",
    "invalid_time_rows = df.filter(condition)\n",
    "invalid_time_rows.show(truncate=False)\n",
    "\n",
    "print(f\"There is {invalid_time_rows.count()} invalid time rows.\")"
   ]
  },
  {
   "cell_type": "code",
   "execution_count": 456,
   "metadata": {},
   "outputs": [
    {
     "name": "stderr",
     "output_type": "stream",
     "text": [
      "                                                                                \r"
     ]
    },
    {
     "name": "stdout",
     "output_type": "stream",
     "text": [
      "+----------+---+--------+------+------+--------+--------------+----------------------+---------+----------+-------------+--------+---------------------+---------+-----+----+------+--------+---+---+---+----+------+----+-----+---+\n",
      "|Unnamed: 0|amt|category|cc_bic|cc_num|is_fraud|merch_eff_time|merch_last_update_time|merch_lat|merch_long|merch_zipcode|merchant|trans_date_trans_time|trans_num|first|last|gender|city_pop|job|dob|lat|long|street|city|state|zip|\n",
      "+----------+---+--------+------+------+--------+--------------+----------------------+---------+----------+-------------+--------+---------------------+---------+-----+----+------+--------+---+---+---+----+------+----+-----+---+\n",
      "+----------+---+--------+------+------+--------+--------------+----------------------+---------+----------+-------------+--------+---------------------+---------+-----+----+------+--------+---+---+---+----+------+----+-----+---+\n",
      "\n"
     ]
    },
    {
     "name": "stderr",
     "output_type": "stream",
     "text": [
      "[Stage 282:>                                                      (0 + 12) / 12]\r"
     ]
    },
    {
     "name": "stdout",
     "output_type": "stream",
     "text": [
      "There is 0 rows with invalid gender.\n"
     ]
    },
    {
     "name": "stderr",
     "output_type": "stream",
     "text": [
      "                                                                                \r"
     ]
    }
   ],
   "source": [
    "invalid_gender_rows = df.filter(~col(\"gender\").isin([\"M\", \"F\"]))\n",
    "\n",
    "# Show the result\n",
    "invalid_gender_rows.show(truncate=False)\n",
    "print(f\"There is {invalid_gender_rows.count()} rows with invalid gender.\")"
   ]
  },
  {
   "cell_type": "markdown",
   "metadata": {},
   "source": [
    "# Hashing\n",
    "\n",
    "#### Opt to use sha hashing, for several reasons:\n",
    "- Don't need to retrieve original values\n",
    "- Only need the data for analysis\n",
    "- Able to match records without exposing sensitive info"
   ]
  },
  {
   "cell_type": "code",
   "execution_count": 457,
   "metadata": {},
   "outputs": [
    {
     "name": "stdout",
     "output_type": "stream",
     "text": [
      "+----------+------+-------------+-----------+--------------------+--------+----------------+----------------------+------------------+-----------+-------------+--------------------+---------------------+--------------------+--------------------+--------------------+------+--------+--------------------+----------+-------+---------+--------------------+--------------------+--------------------+--------------------+\n",
      "|Unnamed: 0|   amt|     category|     cc_bic|              cc_num|is_fraud|  merch_eff_time|merch_last_update_time|         merch_lat| merch_long|merch_zipcode|            merchant|trans_date_trans_time|           trans_num|               first|                last|gender|city_pop|                 job|       dob|    lat|     long|              street|                city|               state|                 zip|\n",
      "+----------+------+-------------+-----------+--------------------+--------+----------------+----------------------+------------------+-----------+-------------+--------------------+---------------------+--------------------+--------------------+--------------------+------+--------+--------------------+----------+-------+---------+--------------------+--------------------+--------------------+--------------------+\n",
      "|         0|  4.97|     misc_net|CITIUS33CHI|80923ef01336409c8...|       0|2012-01-01 08:00|      2012-01-01 08:00|         36.011293| -82.048315|        28705|fraud_Rippin, Kub...|     2019-01-01 08:00|0b242abb623afc578...|bda0a01c76aae97ef...|0959e9bdd3051a415...|     F|    3495|Psychologist, cou...|1988-03-09|36.0788| -81.1781|41d1806600fe3193f...|7cecfc59ad04be489...|b629074b98f630577...|862bf5a651824ad47...|\n",
      "|         1|107.23|  grocery_pos|   ADMDUS41|f80a8e60a9f15ecf1...|       0|2012-01-01 08:00|      1974-03-15 07:30|49.159046999999994|-118.186462|         NULL|fraud_Heller, Gut...|     2019-01-01 08:00|1f76529f857473494...|6307ab01368bdf95d...|7cb75541ff2bcd400...|     F|     149|Special education...|1978-06-21|48.8878|-118.2105|aff1802dbeae07dab...|1569960e00dd0bdb6...|d8689b62711dced3f...|32132256997a672a3...|\n",
      "|         2|220.11|entertainment|       Null|756a303c0348d0ebb...|       0|2012-01-01 08:00|      2012-01-01 08:00|         43.150704|-112.154481|        83236|fraud_Lind-Buckridge|     2019-01-01 08:00|a1a22d70485983eac...|34405d46cb25925bf...|1cdcfc3885f538bc4...|     M|    4154|Nature conservati...|1962-01-19|42.1808| -112.262|674a2376d747e43a0...|df29aa374d5a135c0...|3843971dcfdee5083...|0367c065452a136df...|\n",
      "|         3|  45.0|gas_transport|DEUTUS33TRF|374dcb008121abf2b...|       0|2012-01-01 08:01|      2012-01-01 08:01|         47.034331|-112.561071|         NULL|fraud_Kutch, Herm...|     2019-01-01 08:01|6b849c168bdad6f86...|8d289ec537b6e2edd...|3495e757855a5c678...|     M|    1939|     Patent attorney|1967-01-12|46.2306|-112.1138|bfac23de044b241ba...|93fe3ac0ddb84974b...|409521f02c8b29bd4...|01082e8c6f1a79528...|\n",
      "|         4| 41.96|     misc_pos|   APBCUS61|7f921c03617da9920...|       0|2012-01-01 08:03|      1974-03-15 07:30|         38.674999| -78.632459|        22844| fraud_Keeling-Crist|     2019-01-01 08:03|a41d7549acf907893...|a435e2d26d33b5972...|2c3aaefea8267c668...|     M|      99|Dance movement ps...|1986-03-28|38.4207| -79.4629|eb6a57db860b9aec4...|2bdfa6a9d1d49b236...|851ae1d02366f569b...|07ee425b886cc2c5e...|\n",
      "+----------+------+-------------+-----------+--------------------+--------+----------------+----------------------+------------------+-----------+-------------+--------------------+---------------------+--------------------+--------------------+--------------------+------+--------+--------------------+----------+-------+---------+--------------------+--------------------+--------------------+--------------------+\n",
      "only showing top 5 rows\n",
      "\n"
     ]
    }
   ],
   "source": [
    "from pyspark.sql.functions import sha2\n",
    "\n",
    "pii_columns = [\"cc_num\", \"first\", \"last\", \"street\", \"city\", \"state\", \"zip\"]\n",
    "for col in pii_columns:\n",
    "    df = df.withColumn(col, sha2(col, 256))\n",
    "    \n",
    "df.show(5)\n"
   ]
  },
  {
   "cell_type": "markdown",
   "metadata": {},
   "source": [
    "Step 8: Visualization\n",
    "\n",
    "Now the fun part. What can we know from these data?\n",
    "\n",
    "Number of fraud cases from this credit card sample is 7506, which is 0.579% of all 1296675 transactions."
   ]
  },
  {
   "cell_type": "code",
   "execution_count": 459,
   "metadata": {},
   "outputs": [
    {
     "name": "stderr",
     "output_type": "stream",
     "text": [
      "                                                                                \r"
     ]
    }
   ],
   "source": [
    "fraud_df = df.filter(df[\"is_fraud\"] == 1)\n",
    "\n",
    "import pandas as pd\n",
    "rows = fraud_df.collect()\n",
    "\n",
    "# Convert to Pandas DataFrame\n",
    "fraud_df_pandas = pd.DataFrame([row.asDict() for row in rows])"
   ]
  },
  {
   "cell_type": "code",
   "execution_count": 460,
   "metadata": {},
   "outputs": [
    {
     "name": "stderr",
     "output_type": "stream",
     "text": [
      "/tmp/ipykernel_200975/1706215295.py:5: FutureWarning: \n",
      "\n",
      "Passing `palette` without assigning `hue` is deprecated and will be removed in v0.14.0. Assign the `y` variable to `hue` and set `legend=False` for the same effect.\n",
      "\n",
      "  sns.countplot(\n"
     ]
    },
    {
     "data": {
      "image/png": "[encoded data removed]",
      "text/plain": [
       "<Figure size 1000x600 with 1 Axes>"
      ]
     },
     "metadata": {},
     "output_type": "display_data"
    }
   ],
   "source": [
    "import matplotlib.pyplot as plt\n",
    "import seaborn as sns\n",
    "\n",
    "plt.figure(figsize=(10, 6))\n",
    "sns.countplot(\n",
    "    data=fraud_df_pandas,\n",
    "    y='category',\n",
    "    order=fraud_df_pandas['category'].value_counts().index,\n",
    "    palette='coolwarm'\n",
    ")\n",
    "plt.title('Fraud Distribution Across Categories')\n",
    "plt.xlabel('Number of Fraudulent Transactions')\n",
    "plt.ylabel('Category')\n",
    "plt.show()"
   ]
  }
 ],
 "metadata": {
  "kernelspec": {
   "display_name": ".venv",
   "language": "python",
   "name": "python3"
  },
  "language_info": {
   "codemirror_mode": {
    "name": "ipython",
    "version": 3
   },
   "file_extension": ".py",
   "mimetype": "text/x-python",
   "name": "python",
   "nbconvert_exporter": "python",
   "pygments_lexer": "ipython3",
   "version": "3.12.3"
  }
 },
 "nbformat": 4,
 "nbformat_minor": 2
}
